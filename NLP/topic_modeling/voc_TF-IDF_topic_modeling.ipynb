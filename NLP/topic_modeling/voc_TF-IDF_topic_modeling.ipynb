{
 "cells": [
  {
   "cell_type": "code",
   "execution_count": 2,
   "metadata": {},
   "outputs": [],
   "source": [
    "from sklearn.feature_extraction.text import TfidfVectorizer, CountVectorizer\n",
    "from sklearn.datasets import fetch_20newsgroups\n",
    "from sklearn.decomposition import NMF, LatentDirichletAllocation"
   ]
  },
  {
   "cell_type": "code",
   "execution_count": 5,
   "metadata": {},
   "outputs": [],
   "source": [
    "def display_topics(model, feature_names, no_top_words):\n",
    "    for topic_idx, topic in enumerate(model.components_):\n",
    "        print (\"Topic %d:\" % (topic_idx))\n",
    "        print (\" \".join([feature_names[i] for i in topic.argsort()[:-no_top_words - 1:-1]]))"
   ]
  },
  {
   "cell_type": "code",
   "execution_count": 6,
   "metadata": {},
   "outputs": [],
   "source": [
    "documents = open('voc_preprocessed.txt').readlines()"
   ]
  },
  {
   "cell_type": "code",
   "execution_count": 7,
   "metadata": {},
   "outputs": [
    {
     "name": "stderr",
     "output_type": "stream",
     "text": [
      "/home/ubuntu/anaconda3/lib/python3.6/site-packages/sklearn/decomposition/online_lda.py:294: DeprecationWarning: n_topics has been renamed to n_components in version 0.19 and will be removed in 0.21\n",
      "  DeprecationWarning)\n"
     ]
    },
    {
     "name": "stdout",
     "output_type": "stream",
     "text": [
      "Topic 0:\n",
      "adverb 있다 determiner 그렇다 되다 지금 modifier 아니다 이제 고객\n",
      "Topic 1:\n",
      "카드 변경 되다 유효 입력 승인 결제 자동 납부 이체\n",
      "Topic 2:\n",
      "modifier 금제 요금 변경 무제한 데이터 adverb 되다 삼만 짜다\n",
      "Topic 3:\n",
      "약정 할인 선택 이십 프로 받다 되다 신청 가입 기간\n",
      "Topic 4:\n",
      "호출 소리 녹음 누르다 음성 남다 지나다 연결 되다 부과\n",
      "Topic 5:\n",
      "가족 할인 결합 혜택 분들 있다 등록 adverb 본사 텔레콤\n",
      "Topic 6:\n",
      "데이터 리필 쿠폰 사용 되다 adverb 있다 선물 이용 남다\n",
      "Topic 7:\n",
      "할인 복지 자격 감다 되다 기초 연금 신청 받다 혜택\n",
      "Topic 8:\n",
      "인터넷 티비 와이파이 고객 설치 요금 가입 상품 결합 되다\n",
      "Topic 9:\n",
      "정지 분실 풀다 되다 가능하다 풀리다 modifier 일시 신고 개월\n",
      "Topic 10:\n",
      "결제 소액 한도 차단 이용 되다 금액 휴대폰 확인 요금\n",
      "Topic 11:\n",
      "로밍 한국 해외 데이터 패스 되다 시간 차단 이용 adverb\n",
      "Topic 12:\n",
      "번호 자녀 생년 확인 입력 월일 자리 되다 어떻다 성함\n",
      "Topic 13:\n",
      "해지 보내다 되다 팩스 서류 이메일 처리 문자 신분증 접수\n",
      "Topic 14:\n",
      "고객 센터 텔레콤 저희 연락 드리다 안녕하다 이다 변경 께서\n",
      "Topic 15:\n",
      "exclamation 그렇다 알다 eomi 여보세요 이다 혹시 안녕하다 감사하다 에헤\n",
      "Topic 16:\n",
      "부서 연결 이다 상담 문의 담당 번호 기다리다 끊다 해드리다\n",
      "Topic 17:\n",
      "계좌 납부 은행 요금 자동 이체 통장 되다 미납 농협\n",
      "Topic 18:\n",
      "보험 가입 파손 분실 있다 수리 보상 서비스 되다 보험사\n",
      "Topic 19:\n",
      "통화 전화 연락 드리다 다시 확인 전달 지금 있다 받다\n",
      "Topic 0:\n",
      "adverb 있다 그렇다 지금 determiner 고객 되다 아니다 modifier exclamation\n",
      "Topic 1:\n",
      "알뜰폰 이마트 링크 신세계 티브로드 압니 이어폰 척척 검사 씨제이\n",
      "Topic 2:\n",
      "고객 연락 드리다 exclamation 이다 통화 텔레콤 상담 저희 센터\n",
      "Topic 3:\n",
      "exclamation 고객 확인 되다 번호 드리다 adverb 있다 감사하다 그렇다\n",
      "Topic 4:\n",
      "되다 고객 드리다 adverb 보내다 저희 접수 modifier 으로 해드리다\n",
      "Topic 5:\n",
      "누르다 통화 되다 번호 연결 소리 음성 버튼 남다 으로\n",
      "Topic 6:\n",
      "되다 확인 해지 고객 있다 adverb 번호 지금 determiner 으로\n",
      "Topic 7:\n",
      "데이터 되다 있다 modifier adverb 사용 금제 exclamation 무제한 고객\n",
      "Topic 8:\n",
      "연결 이다 고객 부서 exclamation 인터넷 번호 전화 상담 문의\n",
      "Topic 9:\n",
      "주소지 아파트 번지 인천 삼백 보라 시설 휴일 우편물 충북\n",
      "Topic 10:\n",
      "카드 되다 결제 납부 고객 요금 adverb exclamation 자동 modifier\n",
      "Topic 11:\n",
      "modifier adverb 요금 되다 금제 지금 나오다 determiner 있다 으로\n",
      "Topic 12:\n",
      "할인 되다 고객 복지 modifier 받다 있다 확인 신청 요금\n",
      "Topic 13:\n",
      "소액 한도 만원 올리다 오십 최대 누구 단지 음악 내리다\n",
      "Topic 14:\n",
      "번호 되다 해드리다 exclamation 어떻다 생년 자녀 입력 연결 자리\n",
      "Topic 15:\n",
      "modifier 있다 고객 exclamation 기기 개통 adverb 단말기 되다 대리점\n",
      "Topic 16:\n",
      "고객 adverb 있다 가족 exclamation 인터넷 저희 할인 지금 결합\n",
      "Topic 17:\n",
      "되다 adverb exclamation modifier 로밍 데이터 으로 있다 그렇다 고객\n",
      "Topic 18:\n",
      "있다 서비스 이용 문자 휴대폰 인증 가입 되다 동의 멤버십\n",
      "Topic 19:\n",
      "약정 할인 되다 modifier adverb 이십 받다 정지 있다 으로\n"
     ]
    }
   ],
   "source": [
    "# NMF is able to use tf-idf\n",
    "tfidf_vectorizer = TfidfVectorizer(max_df=0.95, min_df=2)\n",
    "tfidf = tfidf_vectorizer.fit_transform(documents)\n",
    "tfidf_feature_names = tfidf_vectorizer.get_feature_names()\n",
    "\n",
    "# LDA can only use raw term counts for LDA because it is a probabilistic graphical model\n",
    "tf_vectorizer = CountVectorizer(max_df=0.95, min_df=2)\n",
    "tf = tf_vectorizer.fit_transform(documents)\n",
    "tf_feature_names = tf_vectorizer.get_feature_names()\n",
    "\n",
    "no_topics = 20\n",
    "\n",
    "# Run NMF\n",
    "nmf = NMF(n_components=no_topics, random_state=1, alpha=.1, l1_ratio=.5, init='nndsvd').fit(tfidf)\n",
    "\n",
    "# Run LDA\n",
    "lda = LatentDirichletAllocation(n_topics=no_topics, max_iter=5, learning_method='online', learning_offset=50.,random_state=0).fit(tf)\n",
    "\n",
    "no_top_words = 10\n",
    "display_topics(nmf, tfidf_feature_names, no_top_words)\n",
    "\n",
    "display_topics(lda, tf_feature_names, no_top_words)"
   ]
  },
  {
   "cell_type": "code",
   "execution_count": null,
   "metadata": {},
   "outputs": [],
   "source": []
  }
 ],
 "metadata": {
  "kernelspec": {
   "display_name": "Python 3",
   "language": "python",
   "name": "python3"
  },
  "language_info": {
   "codemirror_mode": {
    "name": "ipython",
    "version": 3
   },
   "file_extension": ".py",
   "mimetype": "text/x-python",
   "name": "python",
   "nbconvert_exporter": "python",
   "pygments_lexer": "ipython3",
   "version": "3.6.7"
  }
 },
 "nbformat": 4,
 "nbformat_minor": 2
}
